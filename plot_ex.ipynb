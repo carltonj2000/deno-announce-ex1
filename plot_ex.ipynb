{
 "cells": [
  {
   "cell_type": "code",
   "execution_count": 1,
   "id": "23e063c9-b4fe-4c32-b375-a859366e1502",
   "metadata": {},
   "outputs": [
    {
     "data": {
      "text/plain": [
       "\u001b[33m11\u001b[39m"
      ]
     },
     "execution_count": 1,
     "metadata": {},
     "output_type": "execute_result"
    }
   ],
   "source": [
    "3+8"
   ]
  },
  {
   "cell_type": "code",
   "execution_count": 7,
   "id": "8b3c73c4-434a-4701-993d-1514ed62f009",
   "metadata": {},
   "outputs": [],
   "source": [
    "import * as Plot from \"npm:@observablehq/plot\";\n",
    "import { penguinsi, document } from \"jsr:@ry/jupyter-helper\";"
   ]
  },
  {
   "cell_type": "code",
   "execution_count": 8,
   "id": "1f6e51ab-59c7-4d04-8860-5b69395e2e44",
   "metadata": {},
   "outputs": [
    {
     "data": {
      "application/vnd.dataresource+json": {
       "bytes": null,
       "data": [
        {
         "body_mass_g": 3750,
         "culmen_depth_mm": 18.7,
         "culmen_length_mm": 39.1,
         "flipper_length_mm": 181,
         "island": "Torgersen",
         "sex": "MALE",
         "species": "Adelie"
        },
        {
         "body_mass_g": 3800,
         "culmen_depth_mm": 17.4,
         "culmen_length_mm": 39.5,
         "flipper_length_mm": 186,
         "island": "Torgersen",
         "sex": "FEMALE",
         "species": "Adelie"
        },
        {
         "body_mass_g": 3250,
         "culmen_depth_mm": 18,
         "culmen_length_mm": 40.3,
         "flipper_length_mm": 195,
         "island": "Torgersen",
         "sex": "FEMALE",
         "species": "Adelie"
        },
        {
         "body_mass_g": null,
         "culmen_depth_mm": null,
         "culmen_length_mm": null,
         "flipper_length_mm": null,
         "island": "Torgersen",
         "sex": null,
         "species": "Adelie"
        },
        {
         "body_mass_g": 3450,
         "culmen_depth_mm": 19.3,
         "culmen_length_mm": 36.7,
         "flipper_length_mm": 193,
         "island": "Torgersen",
         "sex": "FEMALE",
         "species": "Adelie"
        },
        {
         "body_mass_g": 3650,
         "culmen_depth_mm": 20.6,
         "culmen_length_mm": 39.3,
         "flipper_length_mm": 190,
         "island": "Torgersen",
         "sex": "MALE",
         "species": "Adelie"
        },
        {
         "body_mass_g": 3625,
         "culmen_depth_mm": 17.8,
         "culmen_length_mm": 38.9,
         "flipper_length_mm": 181,
         "island": "Torgersen",
         "sex": "FEMALE",
         "species": "Adelie"
        },
        {
         "body_mass_g": 4675,
         "culmen_depth_mm": 19.6,
         "culmen_length_mm": 39.2,
         "flipper_length_mm": 195,
         "island": "Torgersen",
         "sex": "MALE",
         "species": "Adelie"
        },
        {
         "body_mass_g": 3475,
         "culmen_depth_mm": 18.1,
         "culmen_length_mm": 34.1,
         "flipper_length_mm": 193,
         "island": "Torgersen",
         "sex": null,
         "species": "Adelie"
        },
        {
         "body_mass_g": 4250,
         "culmen_depth_mm": 20.2,
         "culmen_length_mm": 42,
         "flipper_length_mm": 190,
         "island": "Torgersen",
         "sex": null,
         "species": "Adelie"
        },
        {
         "body_mass_g": 3300,
         "culmen_depth_mm": 17.1,
         "culmen_length_mm": 37.8,
         "flipper_length_mm": 186,
         "island": "Torgersen",
         "sex": null,
         "species": "Adelie"
        },
        {
         "body_mass_g": 3700,
         "culmen_depth_mm": 17.3,
         "culmen_length_mm": 37.8,
         "flipper_length_mm": 180,
         "island": "Torgersen",
         "sex": null,
         "species": "Adelie"
        },
        {
         "body_mass_g": 3200,
         "culmen_depth_mm": 17.6,
         "culmen_length_mm": 41.1,
         "flipper_length_mm": 182,
         "island": "Torgersen",
         "sex": "FEMALE",
         "species": "Adelie"
        },
        {
         "body_mass_g": 3800,
         "culmen_depth_mm": 21.2,
         "culmen_length_mm": 38.6,
         "flipper_length_mm": 191,
         "island": "Torgersen",
         "sex": "MALE",
         "species": "Adelie"
        },
        {
         "body_mass_g": 4400,
         "culmen_depth_mm": 21.1,
         "culmen_length_mm": 34.6,
         "flipper_length_mm": 198,
         "island": "Torgersen",
         "sex": "MALE",
         "species": "Adelie"
        },
        {
         "body_mass_g": 3700,
         "culmen_depth_mm": 17.8,
         "culmen_length_mm": 36.6,
         "flipper_length_mm": 185,
         "island": "Torgersen",
         "sex": "FEMALE",
         "species": "Adelie"
        },
        {
         "body_mass_g": 3450,
         "culmen_depth_mm": 19,
         "culmen_length_mm": 38.7,
         "flipper_length_mm": 195,
         "island": "Torgersen",
         "sex": "FEMALE",
         "species": "Adelie"
        },
        {
         "body_mass_g": 4500,
         "culmen_depth_mm": 20.7,
         "culmen_length_mm": 42.5,
         "flipper_length_mm": 197,
         "island": "Torgersen",
         "sex": "MALE",
         "species": "Adelie"
        },
        {
         "body_mass_g": 3325,
         "culmen_depth_mm": 18.4,
         "culmen_length_mm": 34.4,
         "flipper_length_mm": 184,
         "island": "Torgersen",
         "sex": "FEMALE",
         "species": "Adelie"
        },
        {
         "body_mass_g": 4200,
         "culmen_depth_mm": 21.5,
         "culmen_length_mm": 46,
         "flipper_length_mm": 194,
         "island": "Torgersen",
         "sex": "MALE",
         "species": "Adelie"
        },
        {
         "body_mass_g": 3400,
         "culmen_depth_mm": 18.3,
         "culmen_length_mm": 37.8,
         "flipper_length_mm": 174,
         "island": "Biscoe",
         "sex": "FEMALE",
         "species": "Adelie"
        },
        {
         "body_mass_g": 3600,
         "culmen_depth_mm": 18.7,
         "culmen_length_mm": 37.7,
         "flipper_length_mm": 180,
         "island": "Biscoe",
         "sex": "MALE",
         "species": "Adelie"
        },
        {
         "body_mass_g": 3800,
         "culmen_depth_mm": 19.2,
         "culmen_length_mm": 35.9,
         "flipper_length_mm": 189,
         "island": "Biscoe",
         "sex": "FEMALE",
         "species": "Adelie"
        },
        {
         "body_mass_g": 3950,
         "culmen_depth_mm": 18.1,
         "culmen_length_mm": 38.2,
         "flipper_length_mm": 185,
         "island": "Biscoe",
         "sex": "MALE",
         "species": "Adelie"
        },
        {
         "body_mass_g": 3800,
         "culmen_depth_mm": 17.2,
         "culmen_length_mm": 38.8,
         "flipper_length_mm": 180,
         "island": "Biscoe",
         "sex": "MALE",
         "species": "Adelie"
        },
        {
         "body_mass_g": 3800,
         "culmen_depth_mm": 18.9,
         "culmen_length_mm": 35.3,
         "flipper_length_mm": 187,
         "island": "Biscoe",
         "sex": "FEMALE",
         "species": "Adelie"
        },
        {
         "body_mass_g": 3550,
         "culmen_depth_mm": 18.6,
         "culmen_length_mm": 40.6,
         "flipper_length_mm": 183,
         "island": "Biscoe",
         "sex": "MALE",
         "species": "Adelie"
        },
        {
         "body_mass_g": 3200,
         "culmen_depth_mm": 17.9,
         "culmen_length_mm": 40.5,
         "flipper_length_mm": 187,
         "island": "Biscoe",
         "sex": "FEMALE",
         "species": "Adelie"
        },
        {
         "body_mass_g": 3150,
         "culmen_depth_mm": 18.6,
         "culmen_length_mm": 37.9,
         "flipper_length_mm": 172,
         "island": "Biscoe",
         "sex": "FEMALE",
         "species": "Adelie"
        },
        {
         "body_mass_g": 3950,
         "culmen_depth_mm": 18.9,
         "culmen_length_mm": 40.5,
         "flipper_length_mm": 180,
         "island": "Biscoe",
         "sex": "MALE",
         "species": "Adelie"
        },
        {
         "body_mass_g": 3250,
         "culmen_depth_mm": 16.7,
         "culmen_length_mm": 39.5,
         "flipper_length_mm": 178,
         "island": "Dream",
         "sex": "FEMALE",
         "species": "Adelie"
        },
        {
         "body_mass_g": 3900,
         "culmen_depth_mm": 18.1,
         "culmen_length_mm": 37.2,
         "flipper_length_mm": 178,
         "island": "Dream",
         "sex": "MALE",
         "species": "Adelie"
        },
        {
         "body_mass_g": 3300,
         "culmen_depth_mm": 17.8,
         "culmen_length_mm": 39.5,
         "flipper_length_mm": 188,
         "island": "Dream",
         "sex": "FEMALE",
         "species": "Adelie"
        },
        {
         "body_mass_g": 3900,
         "culmen_depth_mm": 18.9,
         "culmen_length_mm": 40.9,
         "flipper_length_mm": 184,
         "island": "Dream",
         "sex": "MALE",
         "species": "Adelie"
        },
        {
         "body_mass_g": 3325,
         "culmen_depth_mm": 17,
         "culmen_length_mm": 36.4,
         "flipper_length_mm": 195,
         "island": "Dream",
         "sex": "FEMALE",
         "species": "Adelie"
        },
        {
         "body_mass_g": 4150,
         "culmen_depth_mm": 21.1,
         "culmen_length_mm": 39.2,
         "flipper_length_mm": 196,
         "island": "Dream",
         "sex": "MALE",
         "species": "Adelie"
        },
        {
         "body_mass_g": 3950,
         "culmen_depth_mm": 20,
         "culmen_length_mm": 38.8,
         "flipper_length_mm": 190,
         "island": "Dream",
         "sex": "MALE",
         "species": "Adelie"
        },
        {
         "body_mass_g": 3550,
         "culmen_depth_mm": 18.5,
         "culmen_length_mm": 42.2,
         "flipper_length_mm": 180,
         "island": "Dream",
         "sex": "FEMALE",
         "species": "Adelie"
        },
        {
         "body_mass_g": 3300,
         "culmen_depth_mm": 19.3,
         "culmen_length_mm": 37.6,
         "flipper_length_mm": 181,
         "island": "Dream",
         "sex": "FEMALE",
         "species": "Adelie"
        },
        {
         "body_mass_g": 4650,
         "culmen_depth_mm": 19.1,
         "culmen_length_mm": 39.8,
         "flipper_length_mm": 184,
         "island": "Dream",
         "sex": "MALE",
         "species": "Adelie"
        },
        {
         "body_mass_g": 3150,
         "culmen_depth_mm": 18,
         "culmen_length_mm": 36.5,
         "flipper_length_mm": 182,
         "island": "Dream",
         "sex": "FEMALE",
         "species": "Adelie"
        },
        {
         "body_mass_g": 3900,
         "culmen_depth_mm": 18.4,
         "culmen_length_mm": 40.8,
         "flipper_length_mm": 195,
         "island": "Dream",
         "sex": "MALE",
         "species": "Adelie"
        },
        {
         "body_mass_g": 3100,
         "culmen_depth_mm": 18.5,
         "culmen_length_mm": 36,
         "flipper_length_mm": 186,
         "island": "Dream",
         "sex": "FEMALE",
         "species": "Adelie"
        },
        {
         "body_mass_g": 4400,
         "culmen_depth_mm": 19.7,
         "culmen_length_mm": 44.1,
         "flipper_length_mm": 196,
         "island": "Dream",
         "sex": "MALE",
         "species": "Adelie"
        },
        {
         "body_mass_g": 3000,
         "culmen_depth_mm": 16.9,
         "culmen_length_mm": 37,
         "flipper_length_mm": 185,
         "island": "Dream",
         "sex": "FEMALE",
         "species": "Adelie"
        },
        {
         "body_mass_g": 4600,
         "culmen_depth_mm": 18.8,
         "culmen_length_mm": 39.6,
         "flipper_length_mm": 190,
         "island": "Dream",
         "sex": "MALE",
         "species": "Adelie"
        },
        {
         "body_mass_g": 3425,
         "culmen_depth_mm": 19,
         "culmen_length_mm": 41.1,
         "flipper_length_mm": 182,
         "island": "Dream",
         "sex": "MALE",
         "species": "Adelie"
        },
        {
         "body_mass_g": 2975,
         "culmen_depth_mm": 18.9,
         "culmen_length_mm": 37.5,
         "flipper_length_mm": 179,
         "island": "Dream",
         "sex": null,
         "species": "Adelie"
        },
        {
         "body_mass_g": 3450,
         "culmen_depth_mm": 17.9,
         "culmen_length_mm": 36,
         "flipper_length_mm": 190,
         "island": "Dream",
         "sex": "FEMALE",
         "species": "Adelie"
        },
        {
         "body_mass_g": 4150,
         "culmen_depth_mm": 21.2,
         "culmen_length_mm": 42.3,
         "flipper_length_mm": 191,
         "island": "Dream",
         "sex": "MALE",
         "species": "Adelie"
        }
       ],
       "description": null,
       "dialect": null,
       "encoding": null,
       "format": null,
       "hash": null,
       "homepage": null,
       "licenses": null,
       "mediatype": null,
       "path": null,
       "schema": {
        "fields": [
         {
          "constraints": null,
          "description": null,
          "example": null,
          "format": null,
          "name": "species",
          "rdfType": null,
          "title": null,
          "type": "string"
         },
         {
          "constraints": null,
          "description": null,
          "example": null,
          "format": null,
          "name": "island",
          "rdfType": null,
          "title": null,
          "type": "string"
         },
         {
          "constraints": null,
          "description": null,
          "example": null,
          "format": null,
          "name": "culmen_length_mm",
          "rdfType": null,
          "title": null,
          "type": "number"
         },
         {
          "constraints": null,
          "description": null,
          "example": null,
          "format": null,
          "name": "culmen_depth_mm",
          "rdfType": null,
          "title": null,
          "type": "number"
         },
         {
          "constraints": null,
          "description": null,
          "example": null,
          "format": null,
          "name": "flipper_length_mm",
          "rdfType": null,
          "title": null,
          "type": "number"
         },
         {
          "constraints": null,
          "description": null,
          "example": null,
          "format": null,
          "name": "body_mass_g",
          "rdfType": null,
          "title": null,
          "type": "number"
         },
         {
          "constraints": null,
          "description": null,
          "example": null,
          "format": null,
          "name": "sex",
          "rdfType": null,
          "title": null,
          "type": "string"
         }
        ],
        "foreignKeys": null,
        "missingValues": null,
        "primaryKey": null
       },
       "sources": null,
       "title": null
      },
      "text/html": [
       "<table><thead><tr><th>species</th><th>island</th><th>culmen_length_mm</th><th>culmen_depth_mm</th><th>flipper_length_mm</th><th>body_mass_g</th><th>sex</th></tr></thead><tbody><tr><td>Adelie</td><td>Torgersen</td><td>39.1</td><td>18.7</td><td>181</td><td>3750</td><td>MALE</td></tr><tr><td>Adelie</td><td>Torgersen</td><td>39.5</td><td>17.4</td><td>186</td><td>3800</td><td>FEMALE</td></tr><tr><td>Adelie</td><td>Torgersen</td><td>40.3</td><td>18</td><td>195</td><td>3250</td><td>FEMALE</td></tr><tr><td>Adelie</td><td>Torgersen</td><td>NaN</td><td>NaN</td><td>NaN</td><td>NaN</td><td>null</td></tr><tr><td>Adelie</td><td>Torgersen</td><td>36.7</td><td>19.3</td><td>193</td><td>3450</td><td>FEMALE</td></tr><tr><td>Adelie</td><td>Torgersen</td><td>39.3</td><td>20.6</td><td>190</td><td>3650</td><td>MALE</td></tr><tr><td>Adelie</td><td>Torgersen</td><td>38.9</td><td>17.8</td><td>181</td><td>3625</td><td>FEMALE</td></tr><tr><td>Adelie</td><td>Torgersen</td><td>39.2</td><td>19.6</td><td>195</td><td>4675</td><td>MALE</td></tr><tr><td>Adelie</td><td>Torgersen</td><td>34.1</td><td>18.1</td><td>193</td><td>3475</td><td>null</td></tr><tr><td>Adelie</td><td>Torgersen</td><td>42</td><td>20.2</td><td>190</td><td>4250</td><td>null</td></tr><tr><td>Adelie</td><td>Torgersen</td><td>37.8</td><td>17.1</td><td>186</td><td>3300</td><td>null</td></tr><tr><td>Adelie</td><td>Torgersen</td><td>37.8</td><td>17.3</td><td>180</td><td>3700</td><td>null</td></tr><tr><td>Adelie</td><td>Torgersen</td><td>41.1</td><td>17.6</td><td>182</td><td>3200</td><td>FEMALE</td></tr><tr><td>Adelie</td><td>Torgersen</td><td>38.6</td><td>21.2</td><td>191</td><td>3800</td><td>MALE</td></tr><tr><td>Adelie</td><td>Torgersen</td><td>34.6</td><td>21.1</td><td>198</td><td>4400</td><td>MALE</td></tr><tr><td>Adelie</td><td>Torgersen</td><td>36.6</td><td>17.8</td><td>185</td><td>3700</td><td>FEMALE</td></tr><tr><td>Adelie</td><td>Torgersen</td><td>38.7</td><td>19</td><td>195</td><td>3450</td><td>FEMALE</td></tr><tr><td>Adelie</td><td>Torgersen</td><td>42.5</td><td>20.7</td><td>197</td><td>4500</td><td>MALE</td></tr><tr><td>Adelie</td><td>Torgersen</td><td>34.4</td><td>18.4</td><td>184</td><td>3325</td><td>FEMALE</td></tr><tr><td>Adelie</td><td>Torgersen</td><td>46</td><td>21.5</td><td>194</td><td>4200</td><td>MALE</td></tr><tr><td>Adelie</td><td>Biscoe</td><td>37.8</td><td>18.3</td><td>174</td><td>3400</td><td>FEMALE</td></tr><tr><td>Adelie</td><td>Biscoe</td><td>37.7</td><td>18.7</td><td>180</td><td>3600</td><td>MALE</td></tr><tr><td>Adelie</td><td>Biscoe</td><td>35.9</td><td>19.2</td><td>189</td><td>3800</td><td>FEMALE</td></tr><tr><td>Adelie</td><td>Biscoe</td><td>38.2</td><td>18.1</td><td>185</td><td>3950</td><td>MALE</td></tr><tr><td>Adelie</td><td>Biscoe</td><td>38.8</td><td>17.2</td><td>180</td><td>3800</td><td>MALE</td></tr><tr><td>Adelie</td><td>Biscoe</td><td>35.3</td><td>18.9</td><td>187</td><td>3800</td><td>FEMALE</td></tr><tr><td>Adelie</td><td>Biscoe</td><td>40.6</td><td>18.6</td><td>183</td><td>3550</td><td>MALE</td></tr><tr><td>Adelie</td><td>Biscoe</td><td>40.5</td><td>17.9</td><td>187</td><td>3200</td><td>FEMALE</td></tr><tr><td>Adelie</td><td>Biscoe</td><td>37.9</td><td>18.6</td><td>172</td><td>3150</td><td>FEMALE</td></tr><tr><td>Adelie</td><td>Biscoe</td><td>40.5</td><td>18.9</td><td>180</td><td>3950</td><td>MALE</td></tr><tr><td>Adelie</td><td>Dream</td><td>39.5</td><td>16.7</td><td>178</td><td>3250</td><td>FEMALE</td></tr><tr><td>Adelie</td><td>Dream</td><td>37.2</td><td>18.1</td><td>178</td><td>3900</td><td>MALE</td></tr><tr><td>Adelie</td><td>Dream</td><td>39.5</td><td>17.8</td><td>188</td><td>3300</td><td>FEMALE</td></tr><tr><td>Adelie</td><td>Dream</td><td>40.9</td><td>18.9</td><td>184</td><td>3900</td><td>MALE</td></tr><tr><td>Adelie</td><td>Dream</td><td>36.4</td><td>17</td><td>195</td><td>3325</td><td>FEMALE</td></tr><tr><td>Adelie</td><td>Dream</td><td>39.2</td><td>21.1</td><td>196</td><td>4150</td><td>MALE</td></tr><tr><td>Adelie</td><td>Dream</td><td>38.8</td><td>20</td><td>190</td><td>3950</td><td>MALE</td></tr><tr><td>Adelie</td><td>Dream</td><td>42.2</td><td>18.5</td><td>180</td><td>3550</td><td>FEMALE</td></tr><tr><td>Adelie</td><td>Dream</td><td>37.6</td><td>19.3</td><td>181</td><td>3300</td><td>FEMALE</td></tr><tr><td>Adelie</td><td>Dream</td><td>39.8</td><td>19.1</td><td>184</td><td>4650</td><td>MALE</td></tr><tr><td>Adelie</td><td>Dream</td><td>36.5</td><td>18</td><td>182</td><td>3150</td><td>FEMALE</td></tr><tr><td>Adelie</td><td>Dream</td><td>40.8</td><td>18.4</td><td>195</td><td>3900</td><td>MALE</td></tr><tr><td>Adelie</td><td>Dream</td><td>36</td><td>18.5</td><td>186</td><td>3100</td><td>FEMALE</td></tr><tr><td>Adelie</td><td>Dream</td><td>44.1</td><td>19.7</td><td>196</td><td>4400</td><td>MALE</td></tr><tr><td>Adelie</td><td>Dream</td><td>37</td><td>16.9</td><td>185</td><td>3000</td><td>FEMALE</td></tr><tr><td>Adelie</td><td>Dream</td><td>39.6</td><td>18.8</td><td>190</td><td>4600</td><td>MALE</td></tr><tr><td>Adelie</td><td>Dream</td><td>41.1</td><td>19</td><td>182</td><td>3425</td><td>MALE</td></tr><tr><td>Adelie</td><td>Dream</td><td>37.5</td><td>18.9</td><td>179</td><td>2975</td><td>null</td></tr><tr><td>Adelie</td><td>Dream</td><td>36</td><td>17.9</td><td>190</td><td>3450</td><td>FEMALE</td></tr><tr><td>Adelie</td><td>Dream</td><td>42.3</td><td>21.2</td><td>191</td><td>4150</td><td>MALE</td></tr></tbody></table>"
      ]
     },
     "execution_count": 8,
     "metadata": {},
     "output_type": "execute_result"
    }
   ],
   "source": [
    "const p = await penguins();\n",
    "p"
   ]
  },
  {
   "cell_type": "code",
   "execution_count": 10,
   "id": "ba43451b-2804-4560-9519-437a84a6d3b8",
   "metadata": {},
   "outputs": [
    {
     "data": {
      "image/svg+xml": [
       "<svg viewBox=\"0 0 640 400\" height=\"400\" width=\"640\" text-anchor=\"middle\" font-size=\"10\" font-family=\"system-ui, sans-serif\" fill=\"currentColor\" class=\"plot-d6a7b5\"><style>:where(.plot-d6a7b5) {\n",
       "  --plot-background: white;\n",
       "  display: block;\n",
       "  height: auto;\n",
       "  height: intrinsic;\n",
       "  max-width: 100%;\n",
       "}\n",
       ":where(.plot-d6a7b5 text),\n",
       ":where(.plot-d6a7b5 tspan) {\n",
       "  white-space: pre;\n",
       "}</style><g stroke=\"currentColor\" fill=\"none\" aria-hidden=\"true\" aria-label=\"y-axis tick\"><path d=\"M0,0L-6,0\" transform=\"translate(40,352.2033898305085)\" /><path d=\"M0,0L-6,0\" transform=\"translate(40,322.54237288135596)\" /><path d=\"M0,0L-6,0\" transform=\"translate(40,292.8813559322034)\" /><path d=\"M0,0L-6,0\" transform=\"translate(40,263.22033898305085)\" /><path d=\"M0,0L-6,0\" transform=\"translate(40,233.55932203389827)\" /><path d=\"M0,0L-6,0\" transform=\"translate(40,203.89830508474572)\" /><path d=\"M0,0L-6,0\" transform=\"translate(40,174.23728813559322)\" /><path d=\"M0,0L-6,0\" transform=\"translate(40,144.5762711864407)\" /><path d=\"M0,0L-6,0\" transform=\"translate(40,114.91525423728815)\" /><path d=\"M0,0L-6,0\" transform=\"translate(40,85.25423728813557)\" /><path d=\"M0,0L-6,0\" transform=\"translate(40,55.59322033898303)\" /><path d=\"M0,0L-6,0\" transform=\"translate(40,25.93220338983049)\" /></g><g transform=\"translate(-9,0)\" font-variant=\"tabular-nums\" text-anchor=\"end\" aria-label=\"y-axis tick label\"><text transform=\"translate(40,352.2033898305085)\" y=\"0.32em\">175</text><text transform=\"translate(40,322.54237288135596)\" y=\"0.32em\">180</text><text transform=\"translate(40,292.8813559322034)\" y=\"0.32em\">185</text><text transform=\"translate(40,263.22033898305085)\" y=\"0.32em\">190</text><text transform=\"translate(40,233.55932203389827)\" y=\"0.32em\">195</text><text transform=\"translate(40,203.89830508474572)\" y=\"0.32em\">200</text><text transform=\"translate(40,174.23728813559322)\" y=\"0.32em\">205</text><text transform=\"translate(40,144.5762711864407)\" y=\"0.32em\">210</text><text transform=\"translate(40,114.91525423728815)\" y=\"0.32em\">215</text><text transform=\"translate(40,85.25423728813557)\" y=\"0.32em\">220</text><text transform=\"translate(40,55.59322033898303)\" y=\"0.32em\">225</text><text transform=\"translate(40,25.93220338983049)\" y=\"0.32em\">230</text></g><g transform=\"translate(-37,-17)\" text-anchor=\"start\" aria-label=\"y-axis label\"><text transform=\"translate(40,20)\" y=\"0.71em\">↑ flipper_length_mm</text></g><g stroke=\"currentColor\" fill=\"none\" aria-hidden=\"true\" aria-label=\"x-axis tick\"><path d=\"M0,0L0,6\" transform=\"translate(101.16363636363633,370)\" /><path d=\"M0,0L0,6\" transform=\"translate(206.6181818181818,370)\" /><path d=\"M0,0L0,6\" transform=\"translate(312.07272727272726,370)\" /><path d=\"M0,0L0,6\" transform=\"translate(417.5272727272727,370)\" /><path d=\"M0,0L0,6\" transform=\"translate(522.9818181818182,370)\" /></g><g transform=\"translate(0,9)\" font-variant=\"tabular-nums\" aria-label=\"x-axis tick label\"><text transform=\"translate(101.16363636363633,370)\" y=\"0.71em\">35</text><text transform=\"translate(206.6181818181818,370)\" y=\"0.71em\">40</text><text transform=\"translate(312.07272727272726,370)\" y=\"0.71em\">45</text><text transform=\"translate(417.5272727272727,370)\" y=\"0.71em\">50</text><text transform=\"translate(522.9818181818182,370)\" y=\"0.71em\">55</text></g><g transform=\"translate(17,27)\" text-anchor=\"end\" aria-label=\"x-axis label\"><text transform=\"translate(620,370)\">culmen_length_mm →</text></g><g aria-label=\"dot\"><circle fill=\"#4269d0\" r=\"3\" cy=\"316.6101694915254\" cx=\"187.63636363636363\" /><circle fill=\"#4269d0\" r=\"3\" cy=\"286.9491525423729\" cx=\"196.07272727272726\" /><circle fill=\"#4269d0\" r=\"3\" cy=\"233.55932203389827\" cx=\"212.94545454545448\" /><circle fill=\"#4269d0\" r=\"3\" cy=\"245.42372881355936\" cx=\"137.01818181818186\" /><circle fill=\"#4269d0\" r=\"3\" cy=\"263.22033898305085\" cx=\"191.85454545454536\" /><circle fill=\"#4269d0\" r=\"3\" cy=\"316.6101694915254\" cx=\"183.41818181818178\" /><circle fill=\"#4269d0\" r=\"3\" cy=\"233.55932203389827\" cx=\"189.74545454545455\" /><circle fill=\"#4269d0\" r=\"3\" cy=\"245.42372881355936\" cx=\"82.18181818181819\" /><circle fill=\"#4269d0\" r=\"3\" cy=\"263.22033898305085\" cx=\"248.79999999999995\" /><circle fill=\"#4269d0\" r=\"3\" cy=\"286.9491525423729\" cx=\"160.21818181818173\" /><circle fill=\"#4269d0\" r=\"3\" cy=\"322.54237288135596\" cx=\"160.21818181818173\" /><circle fill=\"#4269d0\" r=\"3\" cy=\"310.6779661016949\" cx=\"229.8181818181818\" /><circle fill=\"#4269d0\" r=\"3\" cy=\"257.2881355932203\" cx=\"177.09090909090907\" /><circle fill=\"#4269d0\" r=\"3\" cy=\"215.7627118644068\" cx=\"92.72727272727272\" /><circle fill=\"#4269d0\" r=\"3\" cy=\"292.8813559322034\" cx=\"134.9090909090909\" /><circle fill=\"#4269d0\" r=\"3\" cy=\"233.55932203389827\" cx=\"179.20000000000005\" /><circle fill=\"#4269d0\" r=\"3\" cy=\"221.6949152542373\" cx=\"259.3454545454545\" /><circle fill=\"#4269d0\" r=\"3\" cy=\"298.8135593220339\" cx=\"88.50909090909084\" /><circle fill=\"#4269d0\" r=\"3\" cy=\"239.4915254237288\" cx=\"333.16363636363633\" /><circle fill=\"#4269d0\" r=\"3\" cy=\"358.13559322033893\" cx=\"160.21818181818173\" /><circle fill=\"#4269d0\" r=\"3\" cy=\"322.54237288135596\" cx=\"158.10909090909095\" /><circle fill=\"#4269d0\" r=\"3\" cy=\"269.1525423728813\" cx=\"120.14545454545447\" /><circle fill=\"#4269d0\" r=\"3\" cy=\"292.8813559322034\" cx=\"168.65454545454548\" /><circle fill=\"#4269d0\" r=\"3\" cy=\"322.54237288135596\" cx=\"181.3090909090908\" /><circle fill=\"#4269d0\" r=\"3\" cy=\"281.0169491525424\" cx=\"107.49090909090901\" /><circle fill=\"#4269d0\" r=\"3\" cy=\"304.7457627118644\" cx=\"219.27272727272725\" /><circle fill=\"#4269d0\" r=\"3\" cy=\"281.0169491525424\" cx=\"217.16363636363636\" /><circle fill=\"#4269d0\" r=\"3\" cy=\"370\" cx=\"162.32727272727266\" /><circle fill=\"#4269d0\" r=\"3\" cy=\"322.54237288135596\" cx=\"217.16363636363636\" /><circle fill=\"#4269d0\" r=\"3\" cy=\"334.40677966101697\" cx=\"196.07272727272726\" /><circle fill=\"#4269d0\" r=\"3\" cy=\"334.40677966101697\" cx=\"147.5636363636364\" /><circle fill=\"#4269d0\" r=\"3\" cy=\"275.08474576271186\" cx=\"196.07272727272726\" /><circle fill=\"#4269d0\" r=\"3\" cy=\"298.8135593220339\" cx=\"225.59999999999997\" /><circle fill=\"#4269d0\" r=\"3\" cy=\"233.55932203389827\" cx=\"130.69090909090903\" /><circle fill=\"#4269d0\" r=\"3\" cy=\"227.6271186440678\" cx=\"189.74545454545455\" /><circle fill=\"#4269d0\" r=\"3\" cy=\"263.22033898305085\" cx=\"181.3090909090908\" /><circle fill=\"#4269d0\" r=\"3\" cy=\"322.54237288135596\" cx=\"253.01818181818183\" /><circle fill=\"#4269d0\" r=\"3\" cy=\"316.6101694915254\" cx=\"156\" /><circle fill=\"#4269d0\" r=\"3\" cy=\"298.8135593220339\" cx=\"202.39999999999992\" /><circle fill=\"#4269d0\" r=\"3\" cy=\"310.6779661016949\" cx=\"132.79999999999998\" /><circle fill=\"#4269d0\" r=\"3\" cy=\"233.55932203389827\" cx=\"223.490909090909\" /><circle fill=\"#4269d0\" r=\"3\" cy=\"286.9491525423729\" cx=\"122.25454545454542\" /><circle fill=\"#4269d0\" r=\"3\" cy=\"227.6271186440678\" cx=\"293.09090909090907\" /><circle fill=\"#4269d0\" r=\"3\" cy=\"292.8813559322034\" cx=\"143.34545454545452\" /><circle fill=\"#4269d0\" r=\"3\" cy=\"263.22033898305085\" cx=\"198.18181818181816\" /><circle fill=\"#4269d0\" r=\"3\" cy=\"310.6779661016949\" cx=\"229.8181818181818\" /><circle fill=\"#4269d0\" r=\"3\" cy=\"328.47457627118644\" cx=\"153.89090909090908\" /><circle fill=\"#4269d0\" r=\"3\" cy=\"263.22033898305085\" cx=\"122.25454545454542\" /><circle fill=\"#4269d0\" r=\"3\" cy=\"257.2881355932203\" cx=\"255.1272727272726\" /><circle fill=\"#4269d0\" r=\"3\" cy=\"286.9491525423729\" cx=\"198.18181818181816\" /><circle fill=\"#4269d0\" r=\"3\" cy=\"275.08474576271186\" cx=\"208.72727272727272\" /><circle fill=\"#4269d0\" r=\"3\" cy=\"263.22033898305085\" cx=\"101.16363636363633\" /><circle fill=\"#4269d0\" r=\"3\" cy=\"203.89830508474572\" cx=\"248.79999999999995\" /><circle fill=\"#4269d0\" r=\"3\" cy=\"281.0169491525424\" cx=\"90.6181818181818\" /><circle fill=\"#4269d0\" r=\"3\" cy=\"257.2881355932203\" cx=\"236.14545454545447\" /><circle fill=\"#4269d0\" r=\"3\" cy=\"286.9491525423729\" cx=\"185.5272727272727\" /><circle fill=\"#4269d0\" r=\"3\" cy=\"245.42372881355936\" cx=\"219.27272727272725\" /><circle fill=\"#4269d0\" r=\"3\" cy=\"316.6101694915254\" cx=\"132.79999999999998\" /><circle fill=\"#4269d0\" r=\"3\" cy=\"239.4915254237288\" cx=\"156\" /><circle fill=\"#4269d0\" r=\"3\" cy=\"292.8813559322034\" cx=\"115.92727272727274\" /><circle fill=\"#4269d0\" r=\"3\" cy=\"233.55932203389827\" cx=\"234.03636363636355\" /><circle fill=\"#4269d0\" r=\"3\" cy=\"292.8813559322034\" cx=\"156\" /><circle fill=\"#4269d0\" r=\"3\" cy=\"251.35593220338984\" cx=\"229.8181818181818\" /><circle fill=\"#4269d0\" r=\"3\" cy=\"298.8135593220339\" cx=\"130.69090909090903\" /><circle fill=\"#4269d0\" r=\"3\" cy=\"251.35593220338984\" cx=\"240.36363636363637\" /><circle fill=\"#4269d0\" r=\"3\" cy=\"233.55932203389827\" cx=\"111.70909090909089\" /><circle fill=\"#4269d0\" r=\"3\" cy=\"275.08474576271186\" cx=\"229.8181818181818\" /><circle fill=\"#4269d0\" r=\"3\" cy=\"263.22033898305085\" cx=\"120.14545454545447\" /><circle fill=\"#4269d0\" r=\"3\" cy=\"215.7627118644068\" cx=\"244.58181818181808\" /><circle fill=\"#4269d0\" r=\"3\" cy=\"263.22033898305085\" cx=\"69.52727272727269\" /><circle fill=\"#4269d0\" r=\"3\" cy=\"263.22033898305085\" cx=\"200.2909090909091\" /><circle fill=\"#4269d0\" r=\"3\" cy=\"227.6271186440678\" cx=\"198.18181818181816\" /><circle fill=\"#4269d0\" r=\"3\" cy=\"221.6949152542373\" cx=\"328.9454545454544\" /><circle fill=\"#4269d0\" r=\"3\" cy=\"263.22033898305085\" cx=\"111.70909090909089\" /><circle fill=\"#4269d0\" r=\"3\" cy=\"233.55932203389827\" cx=\"265.6727272727272\" /><circle fill=\"#4269d0\" r=\"3\" cy=\"257.2881355932203\" cx=\"225.59999999999997\" /><circle fill=\"#4269d0\" r=\"3\" cy=\"298.8135593220339\" cx=\"147.5636363636364\" /><circle fill=\"#4269d0\" r=\"3\" cy=\"281.0169491525424\" cx=\"126.4727272727273\" /><circle fill=\"#4269d0\" r=\"3\" cy=\"233.55932203389827\" cx=\"250.90909090909093\" /><circle fill=\"#4269d0\" r=\"3\" cy=\"269.1525423728813\" cx=\"92.72727272727272\" /><circle fill=\"#4269d0\" r=\"3\" cy=\"227.6271186440678\" cx=\"267.78181818181815\" /><circle fill=\"#4269d0\" r=\"3\" cy=\"281.0169491525424\" cx=\"137.01818181818186\" /><circle fill=\"#4269d0\" r=\"3\" cy=\"245.42372881355936\" cx=\"103.27272727272725\" /><circle fill=\"#4269d0\" r=\"3\" cy=\"257.2881355932203\" cx=\"149.67272727272717\" /><circle fill=\"#4269d0\" r=\"3\" cy=\"239.4915254237288\" cx=\"234.03636363636355\" /><circle fill=\"#4269d0\" r=\"3\" cy=\"263.22033898305085\" cx=\"128.58181818181808\" /><circle fill=\"#4269d0\" r=\"3\" cy=\"269.1525423728813\" cx=\"141.2363636363636\" /><circle fill=\"#4269d0\" r=\"3\" cy=\"269.1525423728813\" cx=\"170.7636363636363\" /><circle fill=\"#4269d0\" r=\"3\" cy=\"263.22033898305085\" cx=\"183.41818181818178\" /><circle fill=\"#4269d0\" r=\"3\" cy=\"192.03389830508476\" cx=\"115.92727272727274\" /><circle fill=\"#4269d0\" r=\"3\" cy=\"174.23728813559322\" cx=\"229.8181818181818\" /><circle fill=\"#4269d0\" r=\"3\" cy=\"292.8813559322034\" cx=\"80.07272727272724\" /><circle fill=\"#4269d0\" r=\"3\" cy=\"286.9491525423729\" cx=\"198.18181818181816\" /><circle fill=\"#4269d0\" r=\"3\" cy=\"281.0169491525424\" cx=\"126.4727272727273\" /><circle fill=\"#4269d0\" r=\"3\" cy=\"156.4406779661017\" cx=\"223.490909090909\" /><circle fill=\"#4269d0\" r=\"3\" cy=\"263.22033898305085\" cx=\"166.54545454545453\" /><circle fill=\"#4269d0\" r=\"3\" cy=\"227.6271186440678\" cx=\"212.94545454545448\" /><circle fill=\"#4269d0\" r=\"3\" cy=\"334.40677966101697\" cx=\"61.09090909090909\" /><circle fill=\"#4269d0\" r=\"3\" cy=\"251.35593220338984\" cx=\"274.1090909090909\" /><circle fill=\"#4269d0\" r=\"3\" cy=\"251.35593220338984\" cx=\"101.16363636363633\" /><circle fill=\"#4269d0\" r=\"3\" cy=\"186.10169491525423\" cx=\"227.7090909090909\" /><circle fill=\"#4269d0\" r=\"3\" cy=\"304.7457627118644\" cx=\"158.10909090909095\" /><circle fill=\"#4269d0\" r=\"3\" cy=\"263.22033898305085\" cx=\"160.21818181818173\" /><circle fill=\"#4269d0\" r=\"3\" cy=\"245.42372881355936\" cx=\"162.32727272727266\" /><circle fill=\"#4269d0\" r=\"3\" cy=\"298.8135593220339\" cx=\"200.2909090909091\" /><circle fill=\"#4269d0\" r=\"3\" cy=\"209.83050847457628\" cx=\"177.09090909090907\" /><circle fill=\"#4269d0\" r=\"3\" cy=\"263.22033898305085\" cx=\"168.65454545454548\" /><circle fill=\"#4269d0\" r=\"3\" cy=\"316.6101694915254\" cx=\"166.54545454545453\" /><circle fill=\"#4269d0\" r=\"3\" cy=\"221.6949152542373\" cx=\"274.1090909090909\" /><circle fill=\"#4269d0\" r=\"3\" cy=\"215.7627118644068\" cx=\"166.54545454545453\" /><circle fill=\"#4269d0\" r=\"3\" cy=\"257.2881355932203\" cx=\"324.72727272727275\" /><circle fill=\"#4269d0\" r=\"3\" cy=\"245.42372881355936\" cx=\"200.2909090909091\" /><circle fill=\"#4269d0\" r=\"3\" cy=\"221.6949152542373\" cx=\"253.01818181818183\" /><circle fill=\"#4269d0\" r=\"3\" cy=\"257.2881355932203\" cx=\"198.18181818181816\" /><circle fill=\"#4269d0\" r=\"3\" cy=\"227.6271186440678\" cx=\"263.56363636363636\" /><circle fill=\"#4269d0\" r=\"3\" cy=\"275.08474576271186\" cx=\"177.09090909090907\" /><circle fill=\"#4269d0\" r=\"3\" cy=\"209.83050847457628\" cx=\"149.67272727272717\" /><circle fill=\"#4269d0\" r=\"3\" cy=\"269.1525423728813\" cx=\"115.92727272727274\" /><circle fill=\"#4269d0\" r=\"3\" cy=\"269.1525423728813\" cx=\"229.8181818181818\" /><circle fill=\"#4269d0\" r=\"3\" cy=\"281.0169491525424\" cx=\"126.4727272727273\" /><circle fill=\"#4269d0\" r=\"3\" cy=\"215.7627118644068\" cx=\"158.10909090909095\" /><circle fill=\"#4269d0\" r=\"3\" cy=\"346.271186440678\" cx=\"210.83636363636367\" /><circle fill=\"#4269d0\" r=\"3\" cy=\"192.03389830508476\" cx=\"236.14545454545447\" /><circle fill=\"#4269d0\" r=\"3\" cy=\"286.9491525423729\" cx=\"105.3818181818182\" /><circle fill=\"#4269d0\" r=\"3\" cy=\"209.83050847457628\" cx=\"219.27272727272725\" /><circle fill=\"#4269d0\" r=\"3\" cy=\"257.2881355932203\" cx=\"181.3090909090908\" /><circle fill=\"#4269d0\" r=\"3\" cy=\"233.55932203389827\" cx=\"238.2545454545454\" /><circle fill=\"#4269d0\" r=\"3\" cy=\"257.2881355932203\" cx=\"185.5272727272727\" /><circle fill=\"#4269d0\" r=\"3\" cy=\"144.5762711864407\" cx=\"293.09090909090907\" /><circle fill=\"#4269d0\" r=\"3\" cy=\"263.22033898305085\" cx=\"174.98181818181814\" /><circle fill=\"#4269d0\" r=\"3\" cy=\"221.6949152542373\" cx=\"272\" /><circle fill=\"#4269d0\" r=\"3\" cy=\"245.42372881355936\" cx=\"139.12727272727264\" /><circle fill=\"#4269d0\" r=\"3\" cy=\"209.83050847457628\" cx=\"153.89090909090908\" /><circle fill=\"#4269d0\" r=\"3\" cy=\"281.0169491525424\" cx=\"166.54545454545453\" /><circle fill=\"#4269d0\" r=\"3\" cy=\"263.22033898305085\" cx=\"229.8181818181818\" /><circle fill=\"#4269d0\" r=\"3\" cy=\"257.2881355932203\" cx=\"113.81818181818181\" /><circle fill=\"#4269d0\" r=\"3\" cy=\"203.89830508474572\" cx=\"210.83636363636367\" /><circle fill=\"#4269d0\" r=\"3\" cy=\"292.8813559322034\" cx=\"143.34545454545452\" /><circle fill=\"#4269d0\" r=\"3\" cy=\"245.42372881355936\" cx=\"200.2909090909091\" /><circle fill=\"#4269d0\" r=\"3\" cy=\"245.42372881355936\" cx=\"210.83636363636367\" /><circle fill=\"#4269d0\" r=\"3\" cy=\"281.0169491525424\" cx=\"219.27272727272725\" /><circle fill=\"#4269d0\" r=\"3\" cy=\"275.08474576271186\" cx=\"40\" /><circle fill=\"#4269d0\" r=\"3\" cy=\"263.22033898305085\" cx=\"221.38181818181823\" /><circle fill=\"#4269d0\" r=\"3\" cy=\"251.35593220338984\" cx=\"149.67272727272717\" /><circle fill=\"#4269d0\" r=\"3\" cy=\"292.8813559322034\" cx=\"185.5272727272727\" /><circle fill=\"#4269d0\" r=\"3\" cy=\"263.22033898305085\" cx=\"189.74545454545455\" /><circle fill=\"#4269d0\" r=\"3\" cy=\"298.8135593220339\" cx=\"134.9090909090909\" /><circle fill=\"#4269d0\" r=\"3\" cy=\"233.55932203389827\" cx=\"122.25454545454542\" /><circle fill=\"#4269d0\" r=\"3\" cy=\"245.42372881355936\" cx=\"160.21818181818173\" /><circle fill=\"#4269d0\" r=\"3\" cy=\"281.0169491525424\" cx=\"122.25454545454542\" /><circle fill=\"#4269d0\" r=\"3\" cy=\"197.96610169491524\" cx=\"238.2545454545454\" /><circle fill=\"#efb118\" r=\"3\" cy=\"251.35593220338984\" cx=\"343.7090909090909\" /><circle fill=\"#efb118\" r=\"3\" cy=\"227.6271186440678\" cx=\"417.5272727272727\" /><circle fill=\"#efb118\" r=\"3\" cy=\"245.42372881355936\" cx=\"444.9454545454544\" /><circle fill=\"#efb118\" r=\"3\" cy=\"275.08474576271186\" cx=\"320.5090909090909\" /><circle fill=\"#efb118\" r=\"3\" cy=\"221.6949152542373\" cx=\"474.47272727272735\" /><circle fill=\"#efb118\" r=\"3\" cy=\"215.7627118644068\" cx=\"316.2909090909091\" /><circle fill=\"#efb118\" r=\"3\" cy=\"334.40677966101697\" cx=\"335.27272727272725\" /><circle fill=\"#efb118\" r=\"3\" cy=\"221.6949152542373\" cx=\"444.9454545454544\" /><circle fill=\"#efb118\" r=\"3\" cy=\"233.55932203389827\" cx=\"333.16363636363633\" /><circle fill=\"#efb118\" r=\"3\" cy=\"215.7627118644068\" cx=\"444.9454545454544\" /><circle fill=\"#efb118\" r=\"3\" cy=\"245.42372881355936\" cx=\"345.8181818181818\" /><circle fill=\"#efb118\" r=\"3\" cy=\"239.4915254237288\" cx=\"453.38181818181823\" /><circle fill=\"#efb118\" r=\"3\" cy=\"292.8813559322034\" cx=\"354.2545454545454\" /><circle fill=\"#efb118\" r=\"3\" cy=\"197.96610169491524\" cx=\"459.7090909090909\" /><circle fill=\"#efb118\" r=\"3\" cy=\"263.22033898305085\" cx=\"331.0545454545454\" /><circle fill=\"#efb118\" r=\"3\" cy=\"197.96610169491524\" cx=\"428.07272727272726\" /><circle fill=\"#efb118\" r=\"3\" cy=\"221.6949152542373\" cx=\"423.85454545454536\" /><circle fill=\"#efb118\" r=\"3\" cy=\"316.6101694915254\" cx=\"586.2545454545455\" /><circle fill=\"#efb118\" r=\"3\" cy=\"263.22033898305085\" cx=\"341.5999999999999\" /><circle fill=\"#efb118\" r=\"3\" cy=\"233.55932203389827\" cx=\"400.6545454545455\" /><circle fill=\"#efb118\" r=\"3\" cy=\"316.6101694915254\" cx=\"257.2363636363636\" /><circle fill=\"#efb118\" r=\"3\" cy=\"257.2881355932203\" cx=\"385.890909090909\" /><circle fill=\"#efb118\" r=\"3\" cy=\"281.0169491525424\" cx=\"274.1090909090909\" /><circle fill=\"#efb118\" r=\"3\" cy=\"245.42372881355936\" cx=\"430.18181818181813\" /><circle fill=\"#efb118\" r=\"3\" cy=\"233.55932203389827\" cx=\"347.9272727272728\" /><circle fill=\"#efb118\" r=\"3\" cy=\"221.6949152542373\" cx=\"459.7090909090909\" /><circle fill=\"#efb118\" r=\"3\" cy=\"203.89830508474572\" cx=\"428.07272727272726\" /><circle fill=\"#efb118\" r=\"3\" cy=\"203.89830508474572\" cx=\"406.98181818181814\" /><circle fill=\"#efb118\" r=\"3\" cy=\"257.2881355932203\" cx=\"341.5999999999999\" /><circle fill=\"#efb118\" r=\"3\" cy=\"174.23728813559322\" cx=\"476.58181818181805\" /><circle fill=\"#efb118\" r=\"3\" cy=\"281.0169491525424\" cx=\"225.59999999999997\" /><circle fill=\"#efb118\" r=\"3\" cy=\"197.96610169491524\" cx=\"506.109090909091\" /><circle fill=\"#efb118\" r=\"3\" cy=\"281.0169491525424\" cx=\"259.3454545454545\" /><circle fill=\"#efb118\" r=\"3\" cy=\"186.10169491525423\" cx=\"438.6181818181818\" /><circle fill=\"#efb118\" r=\"3\" cy=\"233.55932203389827\" cx=\"411.2\" /><circle fill=\"#efb118\" r=\"3\" cy=\"209.83050847457628\" cx=\"364.8\" /><circle fill=\"#efb118\" r=\"3\" cy=\"233.55932203389827\" cx=\"366.9090909090909\" /><circle fill=\"#efb118\" r=\"3\" cy=\"144.5762711864407\" cx=\"459.7090909090909\" /><circle fill=\"#efb118\" r=\"3\" cy=\"251.35593220338984\" cx=\"352.1454545454545\" /><circle fill=\"#efb118\" r=\"3\" cy=\"174.23728813559322\" cx=\"491.3454545454545\" /><circle fill=\"#efb118\" r=\"3\" cy=\"144.5762711864407\" cx=\"396.43636363636364\" /><circle fill=\"#efb118\" r=\"3\" cy=\"281.0169491525424\" cx=\"337.38181818181823\" /><circle fill=\"#efb118\" r=\"3\" cy=\"227.6271186440678\" cx=\"436.50909090909084\" /><circle fill=\"#efb118\" r=\"3\" cy=\"227.6271186440678\" cx=\"322.61818181818177\" /><circle fill=\"#efb118\" r=\"3\" cy=\"227.6271186440678\" cx=\"436.50909090909084\" /><circle fill=\"#efb118\" r=\"3\" cy=\"197.96610169491524\" cx=\"434.3999999999999\" /><circle fill=\"#efb118\" r=\"3\" cy=\"263.22033898305085\" cx=\"419.6363636363636\" /><circle fill=\"#efb118\" r=\"3\" cy=\"132.71186440677968\" cx=\"396.43636363636364\" /><circle fill=\"#efb118\" r=\"3\" cy=\"281.0169491525424\" cx=\"449.16363636363633\" /><circle fill=\"#efb118\" r=\"3\" cy=\"215.7627118644068\" cx=\"413.3090909090908\" /><circle fill=\"#efb118\" r=\"3\" cy=\"209.83050847457628\" cx=\"377.45454545454544\" /><circle fill=\"#efb118\" r=\"3\" cy=\"197.96610169491524\" cx=\"447.05454545454535\" /><circle fill=\"#efb118\" r=\"3\" cy=\"245.42372881355936\" cx=\"326.83636363636367\" /><circle fill=\"#efb118\" r=\"3\" cy=\"186.10169491525423\" cx=\"432.2909090909091\" /><circle fill=\"#efb118\" r=\"3\" cy=\"281.0169491525424\" cx=\"259.3454545454545\" /><circle fill=\"#efb118\" r=\"3\" cy=\"221.6949152542373\" cx=\"463.92727272727274\" /><circle fill=\"#efb118\" r=\"3\" cy=\"257.2881355932203\" cx=\"316.2909090909091\" /><circle fill=\"#efb118\" r=\"3\" cy=\"186.10169491525423\" cx=\"402.76363636363624\" /><circle fill=\"#efb118\" r=\"3\" cy=\"192.03389830508476\" cx=\"421.74545454545455\" /><circle fill=\"#efb118\" r=\"3\" cy=\"239.4915254237288\" cx=\"324.72727272727275\" /><circle fill=\"#efb118\" r=\"3\" cy=\"168.3050847457627\" cx=\"457.5999999999999\" /><circle fill=\"#efb118\" r=\"3\" cy=\"269.1525423728813\" cx=\"350.03636363636355\" /><circle fill=\"#efb118\" r=\"3\" cy=\"233.55932203389827\" cx=\"326.83636363636367\" /><circle fill=\"#efb118\" r=\"3\" cy=\"162.3728813559322\" cx=\"539.8545454545454\" /><circle fill=\"#efb118\" r=\"3\" cy=\"192.03389830508476\" cx=\"280.43636363636364\" /><circle fill=\"#efb118\" r=\"3\" cy=\"245.42372881355936\" cx=\"409.0909090909091\" /><circle fill=\"#efb118\" r=\"3\" cy=\"144.5762711864407\" cx=\"434.3999999999999\" /><circle fill=\"#efb118\" r=\"3\" cy=\"215.7627118644068\" cx=\"421.74545454545455\" /><circle fill=\"#ff725c\" r=\"3\" cy=\"138.64406779661016\" cx=\"335.27272727272725\" /><circle fill=\"#ff725c\" r=\"3\" cy=\"25.93220338983049\" cx=\"417.5272727272727\" /><circle fill=\"#ff725c\" r=\"3\" cy=\"144.5762711864407\" cx=\"390.1090909090909\" /><circle fill=\"#ff725c\" r=\"3\" cy=\"97.1186440677966\" cx=\"417.5272727272727\" /><circle fill=\"#ff725c\" r=\"3\" cy=\"114.91525423728815\" cx=\"366.9090909090909\" /><circle fill=\"#ff725c\" r=\"3\" cy=\"144.5762711864407\" cx=\"343.7090909090909\" /><circle fill=\"#ff725c\" r=\"3\" cy=\"138.64406779661016\" cx=\"320.5090909090909\" /><circle fill=\"#ff725c\" r=\"3\" cy=\"91.1864406779661\" cx=\"347.9272727272728\" /><circle fill=\"#ff725c\" r=\"3\" cy=\"150.5084745762712\" cx=\"276.21818181818173\" /><circle fill=\"#ff725c\" r=\"3\" cy=\"114.91525423728815\" cx=\"350.03636363636355\" /><circle fill=\"#ff725c\" r=\"3\" cy=\"120.84745762711864\" cx=\"225.59999999999997\" /><circle fill=\"#ff725c\" r=\"3\" cy=\"108.98305084745762\" cx=\"396.43636363636364\" /><circle fill=\"#ff725c\" r=\"3\" cy=\"120.84745762711864\" cx=\"322.61818181818177\" /><circle fill=\"#ff725c\" r=\"3\" cy=\"126.77966101694913\" cx=\"383.78181818181815\" /><circle fill=\"#ff725c\" r=\"3\" cy=\"144.5762711864407\" cx=\"328.9454545454544\" /><circle fill=\"#ff725c\" r=\"3\" cy=\"103.05084745762713\" cx=\"402.76363636363624\" /><circle fill=\"#ff725c\" r=\"3\" cy=\"144.5762711864407\" cx=\"248.79999999999995\" /><circle fill=\"#ff725c\" r=\"3\" cy=\"79.32203389830508\" cx=\"400.6545454545455\" /><circle fill=\"#ff725c\" r=\"3\" cy=\"150.5084745762712\" cx=\"337.38181818181823\" /><circle fill=\"#ff725c\" r=\"3\" cy=\"73.38983050847459\" cx=\"390.1090909090909\" /><circle fill=\"#ff725c\" r=\"3\" cy=\"97.1186440677966\" cx=\"421.74545454545455\" /><circle fill=\"#ff725c\" r=\"3\" cy=\"114.91525423728815\" cx=\"314.18181818181813\" /><circle fill=\"#ff725c\" r=\"3\" cy=\"126.77966101694913\" cx=\"343.7090909090909\" /><circle fill=\"#ff725c\" r=\"3\" cy=\"114.91525423728815\" cx=\"339.49090909090904\" /><circle fill=\"#ff725c\" r=\"3\" cy=\"114.91525423728815\" cx=\"267.78181818181815\" /><circle fill=\"#ff725c\" r=\"3\" cy=\"114.91525423728815\" cx=\"335.27272727272725\" /><circle fill=\"#ff725c\" r=\"3\" cy=\"108.98305084745762\" cx=\"301.5272727272727\" /><circle fill=\"#ff725c\" r=\"3\" cy=\"114.91525423728815\" cx=\"371.1272727272726\" /><circle fill=\"#ff725c\" r=\"3\" cy=\"144.5762711864407\" cx=\"379.5636363636364\" /><circle fill=\"#ff725c\" r=\"3\" cy=\"85.25423728813557\" cx=\"417.5272727272727\" /><circle fill=\"#ff725c\" r=\"3\" cy=\"73.38983050847459\" cx=\"360.5818181818181\" /><circle fill=\"#ff725c\" r=\"3\" cy=\"150.5084745762712\" cx=\"265.6727272727272\" /><circle fill=\"#ff725c\" r=\"3\" cy=\"162.3728813559322\" cx=\"314.18181818181813\" /><circle fill=\"#ff725c\" r=\"3\" cy=\"25.93220338983049\" cx=\"620\" /><circle fill=\"#ff725c\" r=\"3\" cy=\"85.25423728813557\" cx=\"398.5454545454545\" /><circle fill=\"#ff725c\" r=\"3\" cy=\"85.25423728813557\" cx=\"383.78181818181815\" /><circle fill=\"#ff725c\" r=\"3\" cy=\"126.77966101694913\" cx=\"261.4545454545455\" /><circle fill=\"#ff725c\" r=\"3\" cy=\"91.1864406779661\" cx=\"299.4181818181818\" /><circle fill=\"#ff725c\" r=\"3\" cy=\"156.4406779661017\" cx=\"290.98181818181814\" /><circle fill=\"#ff725c\" r=\"3\" cy=\"156.4406779661017\" cx=\"390.1090909090909\" /><circle fill=\"#ff725c\" r=\"3\" cy=\"156.4406779661017\" cx=\"263.56363636363636\" /><circle fill=\"#ff725c\" r=\"3\" cy=\"55.59322033898303\" cx=\"409.0909090909091\" /><circle fill=\"#ff725c\" r=\"3\" cy=\"144.5762711864407\" cx=\"318.3999999999999\" /><circle fill=\"#ff725c\" r=\"3\" cy=\"108.98305084745762\" cx=\"409.0909090909091\" /><circle fill=\"#ff725c\" r=\"3\" cy=\"73.38983050847459\" cx=\"428.07272727272726\" /><circle fill=\"#ff725c\" r=\"3\" cy=\"103.05084745762713\" cx=\"282.5454545454545\" /><circle fill=\"#ff725c\" r=\"3\" cy=\"144.5762711864407\" cx=\"322.61818181818177\" /><circle fill=\"#ff725c\" r=\"3\" cy=\"55.59322033898303\" cx=\"428.07272727272726\" /><circle fill=\"#ff725c\" r=\"3\" cy=\"126.77966101694913\" cx=\"309.9636363636363\" /><circle fill=\"#ff725c\" r=\"3\" cy=\"114.91525423728815\" cx=\"316.2909090909091\" /><circle fill=\"#ff725c\" r=\"3\" cy=\"144.5762711864407\" cx=\"345.8181818181818\" /><circle fill=\"#ff725c\" r=\"3\" cy=\"85.25423728813557\" cx=\"385.890909090909\" /><circle fill=\"#ff725c\" r=\"3\" cy=\"144.5762711864407\" cx=\"314.18181818181813\" /><circle fill=\"#ff725c\" r=\"3\" cy=\"55.59322033898303\" cx=\"419.6363636363636\" /><circle fill=\"#ff725c\" r=\"3\" cy=\"103.05084745762713\" cx=\"343.7090909090909\" /><circle fill=\"#ff725c\" r=\"3\" cy=\"85.25423728813557\" cx=\"312.07272727272726\" /><circle fill=\"#ff725c\" r=\"3\" cy=\"156.4406779661017\" cx=\"286.7636363636363\" /><circle fill=\"#ff725c\" r=\"3\" cy=\"85.25423728813557\" cx=\"322.61818181818177\" /><circle fill=\"#ff725c\" r=\"3\" cy=\"156.4406779661017\" cx=\"274.1090909090909\" /><circle fill=\"#ff725c\" r=\"3\" cy=\"61.525423728813564\" cx=\"425.9636363636363\" /><circle fill=\"#ff725c\" r=\"3\" cy=\"156.4406779661017\" cx=\"318.3999999999999\" /><circle fill=\"#ff725c\" r=\"3\" cy=\"79.32203389830508\" cx=\"337.38181818181823\" /><circle fill=\"#ff725c\" r=\"3\" cy=\"120.84745762711864\" cx=\"326.83636363636367\" /><circle fill=\"#ff725c\" r=\"3\" cy=\"20\" cx=\"508.21818181818173\" /><circle fill=\"#ff725c\" r=\"3\" cy=\"91.1864406779661\" cx=\"328.9454545454544\" /><circle fill=\"#ff725c\" r=\"3\" cy=\"25.93220338983049\" cx=\"413.3090909090908\" /><circle fill=\"#ff725c\" r=\"3\" cy=\"120.84745762711864\" cx=\"337.38181818181823\" /><circle fill=\"#ff725c\" r=\"3\" cy=\"31.864406779661024\" cx=\"406.98181818181814\" /><circle fill=\"#ff725c\" r=\"3\" cy=\"85.25423728813557\" cx=\"280.43636363636364\" /><circle fill=\"#ff725c\" r=\"3\" cy=\"67.45762711864406\" cx=\"432.2909090909091\" /><circle fill=\"#ff725c\" r=\"3\" cy=\"108.98305084745762\" cx=\"369.01818181818186\" /><circle fill=\"#ff725c\" r=\"3\" cy=\"79.32203389830508\" cx=\"341.5999999999999\" /><circle fill=\"#ff725c\" r=\"3\" cy=\"79.32203389830508\" cx=\"379.5636363636364\" /><circle fill=\"#ff725c\" r=\"3\" cy=\"103.05084745762713\" cx=\"343.7090909090909\" /><circle fill=\"#ff725c\" r=\"3\" cy=\"108.98305084745762\" cx=\"341.5999999999999\" /><circle fill=\"#ff725c\" r=\"3\" cy=\"25.93220338983049\" cx=\"388\" /><circle fill=\"#ff725c\" r=\"3\" cy=\"150.5084745762712\" cx=\"364.8\" /><circle fill=\"#ff725c\" r=\"3\" cy=\"85.25423728813557\" cx=\"440.72727272727275\" /><circle fill=\"#ff725c\" r=\"3\" cy=\"114.91525423728815\" cx=\"316.2909090909091\" /><circle fill=\"#ff725c\" r=\"3\" cy=\"67.45762711864406\" cx=\"316.2909090909091\" /><circle fill=\"#ff725c\" r=\"3\" cy=\"132.71186440677968\" cx=\"398.5454545454545\" /><circle fill=\"#ff725c\" r=\"3\" cy=\"79.32203389830508\" cx=\"470.25454545454545\" /><circle fill=\"#ff725c\" r=\"3\" cy=\"132.71186440677968\" cx=\"362.69090909090903\" /><circle fill=\"#ff725c\" r=\"3\" cy=\"61.525423728813564\" cx=\"417.5272727272727\" /><circle fill=\"#ff725c\" r=\"3\" cy=\"132.71186440677968\" cx=\"309.9636363636363\" /><circle fill=\"#ff725c\" r=\"3\" cy=\"37.796610169491515\" cx=\"434.3999999999999\" /><circle fill=\"#ff725c\" r=\"3\" cy=\"97.1186440677966\" cx=\"278.32727272727266\" /><circle fill=\"#ff725c\" r=\"3\" cy=\"97.1186440677966\" cx=\"444.9454545454544\" /><circle fill=\"#ff725c\" r=\"3\" cy=\"132.71186440677968\" cx=\"364.8\" /><circle fill=\"#ff725c\" r=\"3\" cy=\"25.93220338983049\" cx=\"461.81818181818187\" /><circle fill=\"#ff725c\" r=\"3\" cy=\"97.1186440677966\" cx=\"364.8\" /><circle fill=\"#ff725c\" r=\"3\" cy=\"37.796610169491515\" cx=\"463.92727272727274\" /><circle fill=\"#ff725c\" r=\"3\" cy=\"132.71186440677968\" cx=\"322.61818181818177\" /><circle fill=\"#ff725c\" r=\"3\" cy=\"61.525423728813564\" cx=\"406.98181818181814\" /><circle fill=\"#ff725c\" r=\"3\" cy=\"120.84745762711864\" cx=\"301.5272727272727\" /><circle fill=\"#ff725c\" r=\"3\" cy=\"49.66101694915254\" cx=\"434.3999999999999\" /><circle fill=\"#ff725c\" r=\"3\" cy=\"108.98305084745762\" cx=\"404.8727272727272\" /><circle fill=\"#ff725c\" r=\"3\" cy=\"73.38983050847459\" cx=\"352.1454545454545\" /><circle fill=\"#ff725c\" r=\"3\" cy=\"186.10169491525423\" cx=\"383.78181818181815\" /><circle fill=\"#ff725c\" r=\"3\" cy=\"55.59322033898303\" cx=\"440.72727272727275\" /><circle fill=\"#ff725c\" r=\"3\" cy=\"91.1864406779661\" cx=\"385.890909090909\" /><circle fill=\"#ff725c\" r=\"3\" cy=\"37.796610169491515\" cx=\"541.9636363636363\" /><circle fill=\"#ff725c\" r=\"3\" cy=\"114.91525423728815\" cx=\"358.4727272727273\" /><circle fill=\"#ff725c\" r=\"3\" cy=\"37.796610169491515\" cx=\"398.5454545454545\" /><circle fill=\"#ff725c\" r=\"3\" cy=\"108.98305084745762\" cx=\"360.5818181818181\" /><circle fill=\"#ff725c\" r=\"3\" cy=\"114.91525423728815\" cx=\"350.03636363636355\" /><circle fill=\"#ff725c\" r=\"3\" cy=\"144.5762711864407\" cx=\"242.4727272727273\" /><circle fill=\"#ff725c\" r=\"3\" cy=\"91.1864406779661\" cx=\"489.23636363636354\" /><circle fill=\"#ff725c\" r=\"3\" cy=\"156.4406779661017\" cx=\"276.21818181818173\" /><circle fill=\"#ff725c\" r=\"3\" cy=\"150.5084745762712\" cx=\"377.45454545454544\" /><circle fill=\"#ff725c\" r=\"3\" cy=\"108.98305084745762\" cx=\"428.07272727272726\" /><circle fill=\"#ff725c\" r=\"3\" cy=\"31.864406779661024\" cx=\"413.3090909090908\" /><circle fill=\"#ff725c\" r=\"3\" cy=\"126.77966101694913\" cx=\"280.43636363636364\" /><circle fill=\"#ff725c\" r=\"3\" cy=\"25.93220338983049\" cx=\"449.16363636363633\" /><circle fill=\"#ff725c\" r=\"3\" cy=\"103.05084745762713\" cx=\"337.38181818181823\" /><circle fill=\"#ff725c\" r=\"3\" cy=\"25.93220338983049\" cx=\"525.090909090909\" /><circle fill=\"#ff725c\" r=\"3\" cy=\"103.05084745762713\" cx=\"301.5272727272727\" /><circle fill=\"#ff725c\" r=\"3\" cy=\"73.38983050847459\" cx=\"392.21818181818173\" /><circle fill=\"#ff725c\" r=\"3\" cy=\"120.84745762711864\" cx=\"358.4727272727273\" /><circle fill=\"#ff725c\" r=\"3\" cy=\"114.91525423728815\" cx=\"350.03636363636355\" /><circle fill=\"#ff725c\" r=\"3\" cy=\"73.38983050847459\" cx=\"425.9636363636363\" /><circle fill=\"#ff725c\" r=\"3\" cy=\"132.71186440677968\" cx=\"316.2909090909091\" /><circle fill=\"#ff725c\" r=\"3\" cy=\"126.77966101694913\" cx=\"415.4181818181818\" /></g></svg>"
      ]
     },
     "execution_count": 10,
     "metadata": {},
     "output_type": "execute_result"
    }
   ],
   "source": [
    "const x = \"culmen_length_mm\";\n",
    "const y = \"flipper_length_mm\";\n",
    "Plot.plot({marks: [ Plot.dot(p.toRecords(), { x, y, fill: \"species\" } )], document});"
   ]
  },
  {
   "cell_type": "code",
   "execution_count": 16,
   "id": "02390225-41a2-49fa-b770-7689daa17fa3",
   "metadata": {},
   "outputs": [
    {
     "data": {
      "image/svg+xml": [
       "<svg viewBox=\"0 0 640 459\" height=\"459\" width=\"640\" text-anchor=\"middle\" font-size=\"10\" font-family=\"system-ui, sans-serif\" fill=\"currentColor\" class=\"plot-d6a7b5\"><style>:where(.plot-d6a7b5) {\n",
       "  --plot-background: white;\n",
       "  display: block;\n",
       "  height: auto;\n",
       "  height: intrinsic;\n",
       "  max-width: 100%;\n",
       "}\n",
       ":where(.plot-d6a7b5 text),\n",
       ":where(.plot-d6a7b5 tspan) {\n",
       "  white-space: pre;\n",
       "}</style><g stroke-miterlimit=\"1\" stroke-opacity=\"0.5\" stroke-width=\"1.5\" fill=\"none\" aria-label=\"link\"><path stroke=\"#636363\" d=\"M30,269.4C175,269.4,175,109.8,320,109.8\" /><path stroke=\"#bdbdbd\" d=\"M30,269.4C175,269.4,175,269.4,320,269.4\" /><path stroke=\"#bdbdbd\" d=\"M30,269.4C175,269.4,175,429,320,429\" /><path stroke=\"#bdbdbd\" d=\"M320,109.8C465,109.8,465,30,610,30\" /><path stroke=\"#bdbdbd\" d=\"M320,109.8C465,109.8,465,189.6,610,189.6\" /></g><g aria-label=\"dot\"><circle fill=\"#636363\" r=\"3\" cy=\"269.4\" cx=\"30\"><title>/</title></circle><circle fill=\"#636363\" r=\"3\" cy=\"109.79999999999998\" cx=\"320\"><title>/Screenshots</title></circle><circle fill=\"#bdbdbd\" r=\"3\" cy=\"269.4\" cx=\"320\"><title>/IMG_8272.jpg</title></circle><circle fill=\"#bdbdbd\" r=\"3\" cy=\"429\" cx=\"320\"><title>/IMG_7614.JPG</title></circle><circle fill=\"#bdbdbd\" r=\"3\" cy=\"30\" cx=\"610\"><title>/Screenshots/Screenshot from 2024-10-22 12-23-46.png</title></circle><circle fill=\"#bdbdbd\" r=\"3\" cy=\"189.60000000000002\" cx=\"610\"><title>/Screenshots/Screenshot from 2024-10-22 08-42-21.png</title></circle></g><g transform=\"translate(6,0)\" text-anchor=\"start\" paint-order=\"stroke\" stroke-linejoin=\"round\" stroke-width=\"3\" stroke=\"var(--plot-background)\" aria-label=\"text\"><text transform=\"translate(320,269.4)\" y=\"0.32em\">IMG_8272.jpg<title>/IMG_8272.jpg</title></text><text transform=\"translate(320,429)\" y=\"0.32em\">IMG_7614.JPG<title>/IMG_7614.JPG</title></text><text transform=\"translate(610,30)\" y=\"0.32em\">Screenshot from 2024-10-22 12-23-46.png<title>/Screenshots/Screenshot from 2024-10-22 12-23-46.png</title></text><text transform=\"translate(610,189.60000000000002)\" y=\"0.32em\">Screenshot from 2024-10-22 08-42-21.png<title>/Screenshots/Screenshot from 2024-10-22 08-42-21.png</title></text></g><g transform=\"translate(-6,0)\" text-anchor=\"end\" paint-order=\"stroke\" stroke-linejoin=\"round\" stroke-width=\"3\" stroke=\"var(--plot-background)\" aria-label=\"text\"><text transform=\"translate(320,109.79999999999998)\" y=\"0.32em\">Screenshots<title>/Screenshots</title></text></g></svg>"
      ]
     },
     "execution_count": 16,
     "metadata": {},
     "output_type": "execute_result"
    }
   ],
   "source": [
    "import { tree } from \"jsr:@carltonj2000/tree\";\n",
    "const files = await tree(\"/home/carltonj2000/Pictures\");\n",
    "Plot.plot({marks: [Plot.tree(files)], axis: null, margin: 30, document});"
   ]
  },
  {
   "cell_type": "code",
   "execution_count": null,
   "id": "723dfa56-bf51-4112-a2c9-02567cbd7cc9",
   "metadata": {},
   "outputs": [],
   "source": []
  }
 ],
 "metadata": {
  "kernelspec": {
   "display_name": "Deno",
   "language": "typescript",
   "name": "deno"
  },
  "language_info": {
   "codemirror_mode": "typescript",
   "file_extension": ".ts",
   "mimetype": "text/x.typescript",
   "name": "typescript",
   "nbconvert_exporter": "script",
   "pygments_lexer": "typescript",
   "version": "5.6.2"
  }
 },
 "nbformat": 4,
 "nbformat_minor": 5
}
